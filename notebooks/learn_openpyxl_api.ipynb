{
 "cells": [
  {
   "cell_type": "markdown",
   "id": "1e471637",
   "metadata": {},
   "source": [
    "## Purpose\n",
    "This documents the openpyxml api for worksheet."
   ]
  },
  {
   "cell_type": "markdown",
   "id": "84fa24da",
   "metadata": {},
   "source": [
    "Create the workbook object by loading it. *load_workbook*.\n",
    "Each workbook is an assoc array of sheet objects that can be accessed by name of sheet.\n",
    "The keys (names of the sheet) can be obtained by calling\n",
    "```\n",
    "wb.get_sheet_names()\n",
    "```\n",
    "\n",
    "There is one sheet that is the active sheet. This is referred by the attribute *active_sheet*. This is the sheet that is open when the workbook is opened in excel. You can get the name of the sheet by calling\n",
    "```\n",
    "sheet.title()\n",
    "```\n"
   ]
  },
  {
   "cell_type": "markdown",
   "id": "7c2f4e79",
   "metadata": {},
   "source": [
    "Once I have the worksheet object I can get the cell object by its name. For example\n",
    "```\n",
    "sheet['A1']   // Returns the cell object at sheet cell A1\n",
    "< Cell 'Sheet1'.A1>\n",
    "```\n",
    "\n",
    "Each sheet is an associative array of cells which can be accessed by their location.\n",
    "```\n",
    "c = sheet['B1']\n",
    "c.value\n",
    "```\n",
    "It is easier to get the cell object by passing integers for its row and column keyword attributes. The first row or column is 1 not 0.\n",
    "```\n",
    "sheet.cell(row=1, column=2)\n",
    "<Cell 'Sheet1.B1'>\n",
    "```\n",
    "|"
   ]
  },
  {
   "cell_type": "markdown",
   "id": "96420728",
   "metadata": {},
   "source": [
    "### Attributes of sheet object\n",
    "| Attributes | Description|\n",
    "|------------| ---------- |\n",
    "| max_row    | maximum row used in sheet |\n",
    "| max_col    | maximum column used in sheet|\n",
    "| columns    | generator that produces all cells as columns. Use list to index |\n",
    "| rows       | generator that produces all cells as rows. use list to index |\n",
    "| iter_rows  | Iterate through all rows |\n",
    "| iter_cols  | Iterator through all columns |"
   ]
  },
  {
   "cell_type": "markdown",
   "id": "051cee6e",
   "metadata": {},
   "source": [
    "Say we want to go down column B and print the value of every cell with an odd row number.\n",
    "```\n",
    "wb = openpyxl.load_workbook(\"fname\")\n",
    "sheet = wb.active\n",
    "max_row = sheet.max_row\n",
    "\n",
    "for row in range(2, max_row, 2):\n",
    "  print(sheet1.cell(row=row, column=2).value)\n",
    "```\n",
    "      "
   ]
  },
  {
   "cell_type": "markdown",
   "id": "6759304b",
   "metadata": {},
   "source": [
    "### Methods of sheet object\n",
    "| Methods | Description |\n",
    "|---------|-------------|\n",
    "| cell(row, column | Return the cell at that location. |\n",
    "| \\[coordinate1 : coordinate2\\] | Return the rectangular slice of cells as tuple |"
   ]
  },
  {
   "cell_type": "markdown",
   "id": "f7de1974",
   "metadata": {},
   "source": [
    "## Sheet slicing example\n",
    "```\n",
    "cells = tuple(sheet['A1', 'C3'])\n",
    "for rowofCellObjects in sheet['A1' : 'C3']:\n",
    "    for cellobj in rowofCellObjects:\n",
    "        print(cellObj.coordinate, cellObj.value)\n",
    "```"
   ]
  },
  {
   "cell_type": "markdown",
   "id": "2a99f900",
   "metadata": {},
   "source": [
    "### Attributes of cell object\n",
    "| Cell Attributes | Description |\n",
    "| ----------------| ------------|\n",
    "| value | Contents |\n",
    "| coordinate | Location |\n",
    "| row | Integer representin the row |\n",
    "| column | Letter alphabet representing the col|\n"
   ]
  },
  {
   "cell_type": "markdown",
   "id": "db3b7e13",
   "metadata": {},
   "source": [
    "### Global utilities\n",
    "These are defined in openpyxl.utils\n",
    "\n",
    "| Name | Description |\n",
    "|------|------------- |\n",
    "|get_column_letter(int) | Returns the equiv excel letter |\n",
    "|column_index_from_string('A') | Return the number of the col |\n"
   ]
  },
  {
   "cell_type": "code",
   "execution_count": null,
   "id": "4806c45b",
   "metadata": {},
   "outputs": [],
   "source": []
  }
 ],
 "metadata": {
  "kernelspec": {
   "display_name": "Python 3 (ipykernel)",
   "language": "python",
   "name": "python3"
  },
  "language_info": {
   "codemirror_mode": {
    "name": "ipython",
    "version": 3
   },
   "file_extension": ".py",
   "mimetype": "text/x-python",
   "name": "python",
   "nbconvert_exporter": "python",
   "pygments_lexer": "ipython3",
   "version": "3.8.10"
  }
 },
 "nbformat": 4,
 "nbformat_minor": 5
}
