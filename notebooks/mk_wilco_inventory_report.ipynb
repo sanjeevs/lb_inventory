{
 "cells": [
  {
   "cell_type": "markdown",
   "id": "bdc55ade",
   "metadata": {},
   "source": [
    "This script parses the Wilco weekly inventory report and creates a *clean* version of the report. \n",
    "\n",
    "The wilco convention for naming files seems to be newstock-{data}T{N}.xlsx. \n",
    "\n",
    "The meta file in IN_DIR \"lb_inventory_categories.xlsx\" has the sku mapping to categories.\n",
    "\n",
    "The output file name created is *lb_sku_inventory.xlsx*\n",
    "\n",
    "For running this script initialize the following\n",
    "```\n",
    "IN_DIR : Points to the input directory that has the wilco report is stored.\n",
    "IN_REPORT : Points to the incoming report.\n",
    "META_DIR: Holds the directory to \"lb_inventory_categtories.xlsx\"\n",
    "\n",
    "OUT_DIR : Ponts to the output directory that is used to store the output file\n",
    "OUT_REPORT : Is the name of the output report.\n",
    "```\n"
   ]
  },
  {
   "cell_type": "code",
   "execution_count": 17,
   "id": "3775ed23",
   "metadata": {},
   "outputs": [],
   "source": [
    "REPORT_DIR = \"wilco_reports\"\n",
    "INVENTORY_REPORT = \"newstock - 2022-08-05T201013.974.xlsx\"\n",
    "\n",
    "META_DIR = \"meta\"\n",
    "CATEGORY_XLSX = \"lb_inventory_categories.xlsx\"\n",
    "\n",
    "OUT_DIR = \"out\"\n",
    "OUT_REPORT = \"lb_sku_inventory.xlsx\""
   ]
  },
  {
   "cell_type": "code",
   "execution_count": 11,
   "id": "ca4e24f0",
   "metadata": {},
   "outputs": [
    {
     "name": "stdout",
     "output_type": "stream",
     "text": [
      "Process wilco_reports/newstock - 2022-08-05T201013.974.xlsx to out/lb_sku_inventory.xlsx\n"
     ]
    }
   ],
   "source": [
    "import re\n",
    "import os\n",
    "import openpyxl\n",
    "from pathlib import Path\n",
    "import lb_wilco_parser as wilco\n",
    "\n",
    "CATEGORY_XLSX = Path(META_DIR, CATEGORY_XLSX)\n",
    "IN_XLSX = Path(REPORT_DIR, INVENTORY_REPORT)\n",
    "\n",
    "if not os.path.exists(OUT_DIR):\n",
    "    print(\"Creating output directory\")\n",
    "    os.mkdir(OUT_DIR)\n",
    "    \n",
    "OUT_XLSX = Path(OUT_DIR, OUT_REPORT)\n",
    "print(f\"Process {IN_XLSX} to {OUT_XLSX}\")\n"
   ]
  },
  {
   "cell_type": "code",
   "execution_count": 12,
   "id": "495b90d0",
   "metadata": {},
   "outputs": [
    {
     "name": "stdout",
     "output_type": "stream",
     "text": [
      "Found 88 matching categories\n"
     ]
    }
   ],
   "source": [
    "wb = openpyxl.load_workbook(CATEGORY_XLSX)\n",
    "sheet = wb.active\n",
    "categories = wilco.create_categories_database(sheet)"
   ]
  },
  {
   "cell_type": "code",
   "execution_count": 13,
   "id": "0aca052d",
   "metadata": {},
   "outputs": [
    {
     "name": "stdout",
     "output_type": "stream",
     "text": [
      "<Worksheet \"newstock\">\n"
     ]
    }
   ],
   "source": [
    "wb = openpyxl.load_workbook(IN_XLSX)\n",
    "sheet = wb.active\n",
    "print(sheet)"
   ]
  },
  {
   "cell_type": "code",
   "execution_count": 14,
   "id": "3eb47c10",
   "metadata": {},
   "outputs": [
    {
     "name": "stdout",
     "output_type": "stream",
     "text": [
      "7\n"
     ]
    }
   ],
   "source": [
    "header_row_idx = wilco.extract_wilco_header_row_index(sheet)\n",
    "print(header_row_idx)"
   ]
  },
  {
   "cell_type": "code",
   "execution_count": 15,
   "id": "d58551f9",
   "metadata": {},
   "outputs": [],
   "source": [
    "inventory = wilco.create_inventory_database(sheet, header_row_idx)\n",
    "for item in inventory:\n",
    "    sku = item[0]\n",
    "    item_type = categories[sku][0]\n",
    "    category = categories[sku][1]\n",
    "    item.append(item_type)\n",
    "    item.append(category)"
   ]
  },
  {
   "cell_type": "code",
   "execution_count": 16,
   "id": "05c85487",
   "metadata": {},
   "outputs": [],
   "source": [
    "wilco.save_inventory_database_to_xlsx(OUT_XLSX, inventory)"
   ]
  },
  {
   "cell_type": "code",
   "execution_count": null,
   "id": "c9c936f0",
   "metadata": {},
   "outputs": [],
   "source": []
  },
  {
   "cell_type": "code",
   "execution_count": null,
   "id": "157995a9",
   "metadata": {},
   "outputs": [],
   "source": []
  },
  {
   "cell_type": "code",
   "execution_count": null,
   "id": "e813019b",
   "metadata": {},
   "outputs": [],
   "source": []
  },
  {
   "cell_type": "code",
   "execution_count": null,
   "id": "164793eb",
   "metadata": {},
   "outputs": [],
   "source": []
  }
 ],
 "metadata": {
  "kernelspec": {
   "display_name": "Python 3 (ipykernel)",
   "language": "python",
   "name": "python3"
  },
  "language_info": {
   "codemirror_mode": {
    "name": "ipython",
    "version": 3
   },
   "file_extension": ".py",
   "mimetype": "text/x-python",
   "name": "python",
   "nbconvert_exporter": "python",
   "pygments_lexer": "ipython3",
   "version": "3.8.10"
  }
 },
 "nbformat": 4,
 "nbformat_minor": 5
}
