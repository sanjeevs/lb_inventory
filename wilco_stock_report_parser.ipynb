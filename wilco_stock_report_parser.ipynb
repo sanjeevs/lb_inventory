{
 "cells": [
  {
   "cell_type": "markdown",
   "id": "bdc55ade",
   "metadata": {},
   "source": [
    "This script parses the Wilco weekly inventory report and creates a *clean* version of the report. The wilco convention for naming files seems to be newstock-{data}T{N}.xlsx. \n",
    "The output file name created is wilco-{data}.xlsx"
   ]
  },
  {
   "cell_type": "code",
   "execution_count": 42,
   "id": "3775ed23",
   "metadata": {},
   "outputs": [
    {
     "name": "stdout",
     "output_type": "stream",
     "text": [
      "Storing all outputs to sample1/out\n"
     ]
    }
   ],
   "source": [
    "import re\n",
    "import os\n",
    "import openpyxl\n",
    "from pathlib import Path\n",
    "\n",
    "IN_DIR = 'sample1'\n",
    "OUT_DIR = Path(IN_DIR, 'out')\n",
    "if not os.path.exists(OUT_DIR):\n",
    "    print(\"Creating output directory\")\n",
    "    os.mkdir(OUT_DIR)\n",
    "\n",
    "print(f\"Storing all outputs to {OUT_DIR}\")\n"
   ]
  },
  {
   "cell_type": "code",
   "execution_count": 43,
   "id": "95371733",
   "metadata": {},
   "outputs": [
    {
     "name": "stdout",
     "output_type": "stream",
     "text": [
      "Parsing sample1/newstock - 2022-08-05T201013.974.xlsx to create output file sample1/out/wilco_2022-08-05.xlsx\n"
     ]
    }
   ],
   "source": [
    "IN_XLSX = Path(IN_DIR, \"newstock - 2022-08-05T201013.974.xlsx\")\n",
    "m = re.search(r'newstock - (.*)T', str(IN_XLSX))\n",
    "if m:\n",
    "    out_fname = \"wilco_\" + m.group(1) + \".xlsx\"\n",
    "    OUT_XLSX = Path(OUT_DIR, out_fname)\n",
    "else:\n",
    "    raise ValueError(\"Input filename does not match naming convention.\")\n",
    "    \n",
    "print(f\"Parsing {IN_XLSX} to create output file {OUT_XLSX}\")"
   ]
  },
  {
   "cell_type": "code",
   "execution_count": 44,
   "id": "0aca052d",
   "metadata": {},
   "outputs": [
    {
     "name": "stdout",
     "output_type": "stream",
     "text": [
      "<openpyxl.workbook.workbook.Workbook object at 0x7f16d026f700>\n"
     ]
    }
   ],
   "source": [
    "wb = openpyxl.load_workbook(IN_XLSX)\n",
    "print(wb)"
   ]
  },
  {
   "cell_type": "code",
   "execution_count": 45,
   "id": "0dbd0642",
   "metadata": {},
   "outputs": [
    {
     "name": "stdout",
     "output_type": "stream",
     "text": [
      "['newstock']\n"
     ]
    }
   ],
   "source": [
    "sheetnames = wb.sheetnames\n",
    "print(sheetnames)"
   ]
  },
  {
   "cell_type": "code",
   "execution_count": 46,
   "id": "0bf91c28",
   "metadata": {},
   "outputs": [],
   "source": [
    "sheet = wb['newstock']"
   ]
  },
  {
   "cell_type": "code",
   "execution_count": 47,
   "id": "c2435b46",
   "metadata": {},
   "outputs": [],
   "source": [
    "HEADER_COLUMN = ['SKU', 'LOCATION', 'Batch #', 'Description', 'OnHand', 'Allocated', 'Available']\n",
    "header_row_idx = None\n",
    "\n",
    "for row in sheet.iter_rows(max_row=10):\n",
    "   col_values = [cell.value for cell in row]\n",
    "   for i in range(len(HEADER_COLUMN)):\n",
    "        if col_values[i] != HEADER_COLUMN[i]:\n",
    "            break\n",
    "        header_row_idx = row[0].row\n",
    "        break"
   ]
  },
  {
   "cell_type": "code",
   "execution_count": 48,
   "id": "3eb47c10",
   "metadata": {},
   "outputs": [
    {
     "name": "stdout",
     "output_type": "stream",
     "text": [
      "7\n"
     ]
    }
   ],
   "source": [
    "print(header_row_idx)"
   ]
  },
  {
   "cell_type": "code",
   "execution_count": 49,
   "id": "d58551f9",
   "metadata": {},
   "outputs": [],
   "source": [
    "inventory = []\n",
    "type_item = \"\"\n",
    "for row in sheet.iter_rows(min_row=header_row_idx + 1, values_only=True):\n",
    "    if 'Details' in row[0]:\n",
    "        continue\n",
    "        \n",
    "    if row[0] == \"\":\n",
    "        # Some rows are for totals\n",
    "        continue\n",
    "    inventory.append((row[0].replace('\\n',''), row[6], row[9]))\n",
    "    "
   ]
  },
  {
   "cell_type": "code",
   "execution_count": 50,
   "id": "05c85487",
   "metadata": {},
   "outputs": [],
   "source": [
    "outbook = openpyxl.Workbook()\n",
    "outsheet = outbook.active\n",
    "outsheet[\"A1\"] = \"SKU\"\n",
    "outsheet[\"B1\"] = \"Description\"\n",
    "outsheet[\"C1\"] = \"OnHand\""
   ]
  },
  {
   "cell_type": "code",
   "execution_count": 51,
   "id": "b807aac1",
   "metadata": {},
   "outputs": [],
   "source": [
    "for row, (sku, description, onhand) in enumerate(inventory, start=2):\n",
    "    outsheet[f\"A{row}\"] = sku\n",
    "    outsheet[f\"B{row}\"] = description\n",
    "    outsheet[f\"C{row}\"] = onhand\n",
    "outbook.save(OUT_XLSX)"
   ]
  },
  {
   "cell_type": "code",
   "execution_count": null,
   "id": "157995a9",
   "metadata": {},
   "outputs": [],
   "source": []
  },
  {
   "cell_type": "code",
   "execution_count": null,
   "id": "e813019b",
   "metadata": {},
   "outputs": [],
   "source": []
  }
 ],
 "metadata": {
  "kernelspec": {
   "display_name": "Python 3 (ipykernel)",
   "language": "python",
   "name": "python3"
  },
  "language_info": {
   "codemirror_mode": {
    "name": "ipython",
    "version": 3
   },
   "file_extension": ".py",
   "mimetype": "text/x-python",
   "name": "python",
   "nbconvert_exporter": "python",
   "pygments_lexer": "ipython3",
   "version": "3.8.10"
  }
 },
 "nbformat": 4,
 "nbformat_minor": 5
}
