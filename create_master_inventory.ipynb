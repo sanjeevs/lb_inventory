{
 "cells": [
  {
   "cell_type": "markdown",
   "id": "e3d375b0",
   "metadata": {},
   "source": [
    "## Overview\n",
    "This script takes the *clean* version of the inventory report from Wilco and the static details about the SKU. It then creates a master list that has both the pieces of information."
   ]
  },
  {
   "cell_type": "code",
   "execution_count": 30,
   "id": "933cb073",
   "metadata": {},
   "outputs": [],
   "source": [
    "import re\n",
    "import os\n",
    "import openpyxl\n",
    "from pathlib import Path\n",
    "\n",
    "IN_DIR = 'sample1'\n",
    "OUT_DIR = Path(IN_DIR, 'out')\n",
    "\n",
    "if not os.path.exists(OUT_DIR):\n",
    "    raise ValueError(\"Output directory not found\")\n"
   ]
  },
  {
   "cell_type": "code",
   "execution_count": 31,
   "id": "bcd8304d",
   "metadata": {},
   "outputs": [
    {
     "name": "stdout",
     "output_type": "stream",
     "text": [
      "Merging 'sample1/lb_inventory_meta.xlsx' with 'sample1/out/wilco_2022-08-05.xlsx' to create 'sample1/out/master_2022-08-05.xlsx'\n"
     ]
    }
   ],
   "source": [
    "IN_DETAILS = Path(IN_DIR, 'lb_inventory_meta.xlsx')\n",
    "IN_STOCK = Path(OUT_DIR, 'wilco_2022-08-05.xlsx')\n",
    "\n",
    "m = re.search(r'wilco_(.*).xlsx', str(IN_STOCK))\n",
    "if m:\n",
    "    out_fname = \"master_\" + m.group(1) + \".xlsx\"\n",
    "else:\n",
    "    raise ValueError(f\"Wilco inventory file '{IN_STOCK}' has wrong naming conventions\")\n",
    "    \n",
    "OUT_MASTER = Path(OUT_DIR, out_fname)\n",
    "\n",
    "print(f\"Merging '{IN_DETAILS}' with '{IN_STOCK}' to create '{OUT_MASTER}'\")"
   ]
  },
  {
   "cell_type": "code",
   "execution_count": 32,
   "id": "4c1fae82",
   "metadata": {},
   "outputs": [
    {
     "name": "stdout",
     "output_type": "stream",
     "text": [
      "<openpyxl.workbook.workbook.Workbook object at 0x7fdfc9ceff10>\n"
     ]
    }
   ],
   "source": [
    "wb = openpyxl.load_workbook(IN_DETAILS)\n",
    "print(wb)"
   ]
  },
  {
   "cell_type": "code",
   "execution_count": 33,
   "id": "ba2caefc",
   "metadata": {},
   "outputs": [],
   "source": [
    "sheet = wb['Inventory']"
   ]
  },
  {
   "cell_type": "code",
   "execution_count": 34,
   "id": "505c7e59",
   "metadata": {},
   "outputs": [],
   "source": [
    "if sheet[1][0].value == \"Location\" and sheet[1][1].value == \"SKU\" and sheet[1][2].value == \"Type\":\n",
    "    print('Matching column names found')"
   ]
  },
  {
   "cell_type": "code",
   "execution_count": 35,
   "id": "3d436bb1",
   "metadata": {},
   "outputs": [],
   "source": [
    "costs = {}\n",
    "for row in sheet.iter_rows(min_row=2, values_only=True):\n",
    "    if row[1] == None:\n",
    "        break\n",
    "    sku = row[1].replace('\\n', '')\n",
    "    sku_details = {\n",
    "        'Type'       : row[3],\n",
    "        'Description': row[2],\n",
    "        'PcsPerCase' : row[5],\n",
    "        'WtPerPcGms' : row[6],\n",
    "        'PricePerPc' : row[7]\n",
    "    }\n",
    "    costs[sku] = sku_details"
   ]
  },
  {
   "cell_type": "code",
   "execution_count": 36,
   "id": "debfdcd1",
   "metadata": {},
   "outputs": [
    {
     "name": "stdout",
     "output_type": "stream",
     "text": [
      "<Worksheet \"Sheet\">\n"
     ]
    }
   ],
   "source": [
    "wb = openpyxl.load_workbook(IN_STOCK)\n",
    "sheet = wb.active\n",
    "print(sheet)"
   ]
  },
  {
   "cell_type": "code",
   "execution_count": 37,
   "id": "095ac996",
   "metadata": {},
   "outputs": [],
   "source": [
    "items = {}\n",
    "for row in sheet.iter_rows(min_row=2, values_only=True):\n",
    "    sku = row[0].replace('\\n', '')\n",
    "    sku_details = {\n",
    "        'OnHand' : row[2]\n",
    "    }\n",
    "    items[sku] = sku_details"
   ]
  },
  {
   "cell_type": "code",
   "execution_count": 38,
   "id": "42f7182a",
   "metadata": {},
   "outputs": [],
   "source": [
    "inventory_items = []\n",
    "for sku in items.keys():\n",
    "    item = costs[sku]\n",
    "    item['PcPerCase'] = costs[sku]['PcsPerCase']\n",
    "    item['PcWtGms'] = costs[sku]['WtPerPcGms']\n",
    "    item['PcPrice'] = costs[sku]['PricePerPc']\n",
    "    if item['PcPrice'] == None:\n",
    "        case_cost = 0\n",
    "        total_cost = 0\n",
    "    else:\n",
    "        case_cost = float(item['PcPrice']) * int(item['PcPerCase'])\n",
    "        total_cost = items[sku]['OnHand'] * case_cost\n",
    "        \n",
    "    if item['PcWtGms'] == None:\n",
    "        total_wt_lbs = 0\n",
    "    else:\n",
    "        total_wt_lbs = (float(item['PcWtGms']) * int(item['PcPerCase']) * int(items[sku]['OnHand'])) * 0.0022\n",
    "        \n",
    "    inventory_items.append((sku, item['Type'], item['Description'], item['PcPerCase'], item['PcWtGms'], \n",
    "                            item['PcPrice'], case_cost, items[sku]['OnHand'], total_cost, total_wt_lbs))"
   ]
  },
  {
   "cell_type": "code",
   "execution_count": 39,
   "id": "31fb8680",
   "metadata": {},
   "outputs": [
    {
     "name": "stdout",
     "output_type": "stream",
     "text": [
      "[('001', 'Frozen', 'Malabar Parotta 28/ctn', 13, 1, 2, 26.0, 58, 1508.0, 1.6588), ('003-20pk', 'Frozen', 'Tapioca Sliced 400', 14, 2, 3, 42.0, 4, 168.0, 0.2464), ('003-25pk', 'Frozen', 'Tapioca Sliced', 15, 3, 4, 60.0, 66, 3960.0, 6.534000000000001), ('004', 'Frozen', 'Hand Grated Coconut', 16, 4, 5, 80.0, 178, 14240.0, 25.0624), ('010', 'Frozen', 'Sliced Coconut', 17, 5, 6, 102.0, 157, 16014.0, 29.359), ('022', 'Dry', 'Mixed Vegetable Pickle', 18, 6, 7, 126.0, 2, 252.0, 0.4752), ('023', 'Dry', 'White Lemon Pickle', 19, 7, 8, 152.0, 2, 304.0, 0.5852), ('026', 'Dry', 'Green Chilli Pickle', 20, 8, 9, 180.0, 1, 180.0, 0.35200000000000004), ('027', 'Dry', 'Ginger Bitter Lemon (Vadukapuli) Red Pickle', 21, 9, 10, 210.0, 2, 420.0, 0.8316), ('028', 'Dry', 'Giant Bitter Lemon (Vadukapuli) White Pickle', 22, 10, 11, 242.0, 1, 242.0, 0.48400000000000004), ('029', 'Dry', 'Garlic Pickle', 23, 11, 12, 276.0, 3, 828.0, 1.6698000000000002), ('036', 'Dry', 'Bitterground Pickle', 24, 12, 13, 312.0, 3, 936.0, 1.9008), ('037', 'Dry', 'Uluva Mango Pickle', 25, 13, 14, 350.0, 33, 11550.0, 23.595000000000002), ('038', 'Dry', 'Dried Chili Chutney', 26, 14, 15, 390.0, 14, 5460.0, 11.2112), ('039', 'Dry', 'Kanthari Manga Chamanthi', 27, 15, 16, 432.0, 43, 18576.0, 38.313), ('041', 'Dry', 'Garlic Paste 400gm', 28, 16, 17, 476.0, 3, 1428.0, 2.9568000000000003), ('042', 'Dry', 'Ginger Paste 400gm', 29, 17, 18, 522.0, 3, 1566.0, 3.2538), ('044', 'Dry', 'Instant Chicken Fry Paste', 30, 18, 19, 570.0, 1, 570.0, 1.1880000000000002), ('048', 'Dry', 'Lemon Pickle', 31, 19, 20, 620.0, 3, 1860.0, 3.8874000000000004), ('049SKU#: 36', 'Dry', 'Mixed Vegetable Pickle', 32, 20, 21, 672.0, 1, 672.0, 1.4080000000000001), ('050', 'Dry', 'Garlic Pickle', 33, 21, 22, 726.0, 2, 1452.0, 3.0492000000000004), ('054', 'Dry', 'Dried Pepper (Chili) Chutney', 34, 22, 23, 782.0, 9, 7038.0, 14.810400000000001), ('066', 'Dry', 'Plantain Chips', 35, 23, 24, 840.0, 21, 17640.0, 37.191), ('068', 'Dry', 'Tapioca Chips', 36, 24, 25, 900.0, 2, 1800.0, 3.8016), ('074', 'Dry', 'Coconut Varuthara Paste', 37, 25, 26, 962.0, 27, 25974.0, 54.945), ('075', 'Dry', 'White Lemon Pickle', 38, 26, 27, 1026.0, 4, 4104.0, 8.6944), ('076', 'Dry', 'Green Chili Pickle', 39, 27, 28, 1092.0, 2, 2184.0, 4.6332), ('080', 'Dry', 'Hot & Sweet Lemon Pickle', 40, 28, 29, 1160.0, 3, 3480.0, 7.392), ('083', 'Dry', 'Vadukapuli White Pickle (Giant Bitter Lemon)', 41, 29, 30, 1230.0, 1, 1230.0, 2.6158), ('084', 'Dry', 'Bitterground Pickle', 42, 30, 31, 1302.0, 2, 2604.0, 5.5440000000000005), ('086', 'Dry', 'Chicken Masala', 43, 31, 32, 1376.0, 1, 1376.0, 2.9326000000000003), ('087', 'Dry', 'Meat Masala', 44, 32, 33, 1452.0, 3, 4356.0, 9.2928), ('088', 'Dry', 'Sambar Powder', 45, 33, 34, 1530.0, 3, 4590.0, 9.801), ('089', 'Dry', 'Fish Masala', 46, 34, 35, 1610.0, 2, 3220.0, 6.881600000000001), ('090', 'Dry', 'Red Pepper (Chili) Powder', 47, 35, 36, 1692.0, 7, 11844.0, 25.333000000000002), ('091', 'Dry', 'Coriander Powder', 48, 36, 37, 1776.0, 5, 8880.0, 19.008000000000003), ('092', 'Dry', 'Turmeric Powder', 49, 37, 38, 1862.0, 2, 3724.0, 7.977200000000001), ('094', 'Dry', 'Cumin Powder', 50, 38, 39, 1950.0, 14, 27300.0, 58.52), ('095', 'Dry', 'Black Pepper Powder', 51, 39, 40, 2040.0, 11, 22440.0, 48.1338), ('097', 'Frozen', 'Malabar Parotta 16/ctn', 52, 40, 41, 2132.0, 62, 132184.0, 283.712), ('098', 'Dry', 'Dried Tapioca (Vattu Kappa)', 53, 41, 42, 2226.0, 23, 51198.0, 109.9538), ('099', 'Dry', 'Red Pepper Pods w Stem', 54, 42, 43, 2322.0, 48, 111456.0, 239.50080000000003), ('102', 'Dry', 'Steamed Rice Powder (Puttupodi)', 55, 43, 44, 2420.0, 21, 50820.0, 109.263), ('103', 'Dry', 'Rice Powder', 56, 44, 45, 2520.0, 39, 98280.0, 211.4112), ('104', 'Dry', 'Roasted Rice Powder (Appam Idiyappam Palappam Podi)', 57, 45, 46, 2622.0, 37, 97014.0, 208.79100000000003), ('108', 'Dry', 'Roasted Semolina', 58, 46, 47, 2726.0, 13, 35438.0, 76.3048), ('110', 'Dry', 'Kerala Mixtures', 59, 47, 48, 2832.0, 26, 73632.0, 158.6156), ('111', 'Dry', 'Bombay Mixtures', 60, 48, 49, 2940.0, 4, 11760.0, 25.344), ('112', 'Dry', 'Plantain Chips Ripe', 61, 49, 50, 3050.0, 13, 39650.0, 85.4854), ('113', 'Dry', 'Pakkavada', 62, 50, 51, 3162.0, 12, 37944.0, 81.84), ('115', 'Dry', 'Jaggerry (Marayur)', 63, 51, 52, 3276.0, 12, 39312.0, 84.8232), ('116', 'Dry', 'Palm Jaggerry (Karippetti)', 64, 52, 53, 3392.0, 12, 40704.0, 87.8592), ('118', 'Dry', 'Ginger Coffee (Chukku Kappi)', 65, 53, 54, 3510.0, 10, 35100.0, 75.79), ('124', 'Dry', 'Earthenware Red (Appachatti)', 66, 54, 55, 3630.0, 13, 47190.0, 101.9304), ('137', 'Dry', 'Mortar & Hand Grinder (Arakallu) 17in', 67, 55, 56, 3752.0, 11, 41272.0, 89.177), ('137-A', 'Dry', 'Hand Grinder', 68, 56, 57, 3876.0, 2, 7752.0, 16.755200000000002), ('165', 'Frozen', 'Coconut curry paste for Alleppy Fish Curry', 69, 57, 58, 4002.0, 4, 16008.0, 34.610400000000006), ('166', 'Frozen', 'Coconut curry paste for Chettinad Chicken Curry', 70, 58, 59, 4130.0, 3, 12390.0, 26.796000000000003), ('167', 'Frozen', 'Coconut curry paste for Chicken Stew', 71, 59, 60, 4260.0, 3, 12780.0, 27.6474), ('168', 'Frozen', 'Coconut curry paste for Chicken Kuruma', 72, 60, 61, 4392.0, 3, 13176.0, 28.512), ('170', 'Frozen', 'Coconut curry paste for Chicken Curry', 73, 61, 62, 4526.0, 4, 18104.0, 39.1864), ('171', 'Frozen', 'Coconut curry paste for Fish Moilee', 74, 62, 63, 4662.0, 3, 13986.0, 30.280800000000003), ('172', 'Frozen', 'Coconut curry paste for Lamb Curry', 75, 63, 64, 4800.0, 2, 9600.0, 20.790000000000003), ('173', 'Frozen', 'Coconut curry paste for Thai Green Curry', 76, 64, 65, 4940.0, 3, 14820.0, 32.1024), ('174', 'Frozen', 'Coconut curry paste for Nadan Fish Curry', 77, 65, 66, 5082.0, 2, 10164.0, 22.022000000000002), ('175', 'Frozen', 'Coconut curry paste for Thai Red Curry', 78, 66, 67, 5226.0, 3, 15678.0, 33.976800000000004), ('176', 'Frozen', 'Coconut curry paste for Thai Yellow Curry', 79, 67, 68, 5372.0, 5, 26860.0, 58.223000000000006), ('197', 'Dry', 'Chicken Masala', 80, 68, 69, 5520.0, 8, 44160.0, 95.744), ('198', 'Dry', 'Meat Masala', 81, 69, 70, 5670.0, 6, 34020.0, 73.7748), ('199', 'Dry', 'Sambar Powder', 82, 70, 71, 5822.0, 4, 23288.0, 50.512), ('200', 'Dry', 'Fish Masala', 83, 71, 72, 5976.0, 9, 53784.0, 116.68140000000001), ('201', 'Dry', 'Red Pepper (Chili) Powder', 84, 72, 73, 6132.0, 9, 55188.0, 119.75040000000001), ('202', 'Dry', 'Coriander Powder', 85, 73, 74, 6290.0, 10, 62900.0, 136.51000000000002), ('203', 'Dry', 'Turmeric Powder', 86, 74, 75, 6450.0, 10, 64500.0, 140.008), ('204', 'Dry', 'Kashmiri red pepper (Chili) powder', 87, 75, 76, 6612.0, 8, 52896.0, 114.84), ('205', 'Dry', 'Kerala Mixtures Extra Hot', 88, 76, 77, 6776.0, 12, 81312.0, 176.56320000000002), ('206', 'Dry', 'Plantain Chips Spicy 300pk', 89, 77, 78, 6942.0, 16, 111072.0, 241.22560000000001), ('211', 'Dry', 'Spicy Boondhi', 90, 78, 79, 7110.0, 4, 28440.0, 61.776), ('220', 'Dry', 'Kaliyadaykka', 91, 79, 80, 7280.0, 3, 21840.0, 47.4474), ('233', 'Dry', 'Kuzhalappam', 92, 80, 81, 7452.0, 6, 44712.0, 97.152), ('234', 'Dry', 'Thatti', 93, 81, 82, 7626.0, 2, 15252.0, 33.1452), ('235', 'Dry', 'Pakkavada', 94, 82, 83, 7802.0, 18, 140436.0, 305.2368), ('236', 'Dry', 'Plantain Chips', 95, 83, 84, 7980.0, 28, 223440.0, 485.716), ('237', 'Dry', 'Plantain Chips Spicy', 96, 84, 85, 8160.0, 18, 146880.0, 319.3344), ('240', 'Dry', 'Plantain Four Cut Chips', 97, 85, 86, 8342.0, 8, 66736.0, 145.112), ('CP1SKU#: 165,174,171,172', 'Frozen', 'Curry Paste Mixed Skus', 98, 86, 87, 8526.0, 15, 127890.0, 278.124), ('CP2SKU#: 168,166,170,167', 'Frozen', 'Curry Paste Mixed Skus', 99, 87, 88, 8712.0, 19, 165528.0, 360.02340000000004), ('CP3SKU#: 175,173,176,169', 'Frozen', 'Curry Paste Mixed Skus', 100, 88, 89, 8900.0, 16, 142400.0, 309.76)]\n"
     ]
    }
   ],
   "source": [
    "print(inventory_items)"
   ]
  },
  {
   "cell_type": "code",
   "execution_count": 40,
   "id": "677b1850",
   "metadata": {},
   "outputs": [],
   "source": [
    "out_wb = openpyxl.Workbook()\n",
    "out_ws = out_wb.active\n",
    "out_ws.append(['SKU', 'Type', 'Description', 'PcPerCase', 'PcWtGms', 'PcCost', 'CaseCost', 'OnHand', 'TotalCost', 'TotalWtLbs'])"
   ]
  },
  {
   "cell_type": "code",
   "execution_count": 41,
   "id": "68909872",
   "metadata": {},
   "outputs": [],
   "source": [
    "for row in inventory_items:\n",
    "    out_ws.append(row)"
   ]
  },
  {
   "cell_type": "code",
   "execution_count": 42,
   "id": "203f484d",
   "metadata": {},
   "outputs": [],
   "source": [
    "out_wb.save(OUT_MASTER)"
   ]
  },
  {
   "cell_type": "code",
   "execution_count": null,
   "id": "d7f73088",
   "metadata": {},
   "outputs": [],
   "source": []
  },
  {
   "cell_type": "code",
   "execution_count": null,
   "id": "bddbcb5c",
   "metadata": {},
   "outputs": [],
   "source": []
  }
 ],
 "metadata": {
  "kernelspec": {
   "display_name": "Python 3 (ipykernel)",
   "language": "python",
   "name": "python3"
  },
  "language_info": {
   "codemirror_mode": {
    "name": "ipython",
    "version": 3
   },
   "file_extension": ".py",
   "mimetype": "text/x-python",
   "name": "python",
   "nbconvert_exporter": "python",
   "pygments_lexer": "ipython3",
   "version": "3.8.10"
  }
 },
 "nbformat": 4,
 "nbformat_minor": 5
}
