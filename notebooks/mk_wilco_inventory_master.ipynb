{
 "cells": [
  {
   "cell_type": "markdown",
   "id": "75a1c462",
   "metadata": {},
   "source": [
    "## Purpose\n",
    "Annotates the pricing xlsx sheet with the inventory from wilco report.\n",
    "\n",
    "It allows us to comput the value of 2 questions.\n",
    "* What is the total dollar amount of WILCO inventory?\n",
    "* What items are present in pricing sheet but not in wilco inventory? These can be manually checked to ensure that they exist at homte.\n",
    "\n",
    "The final output for dollary amount is  *master_wilco_dollars.xlsx*\n",
    "\n",
    "The various inputs are\n",
    "* wilco inventory xlsx\n",
    "* pricing xlsx to create a master list.\n",
    "* lb inventory category"
   ]
  },
  {
   "cell_type": "code",
   "execution_count": null,
   "id": "169013a9",
   "metadata": {},
   "outputs": [],
   "source": [
    "IN_DIR = \"out\"\n",
    "IN_PRICING_XLSX = Path(IN_DIR, 'lb_sku_pricing.xlsx')\n",
    "IN_WILCO_XLSX = Path(IN_DIR, 'lb_sku_inventory.xlsx')\n",
    "\n",
    "OUT_DIR = \"out\"\n",
    "OUT_XLSX = Path(OUT_DIR, \"master_wilco_dollars.xlsx\")"
   ]
  },
  {
   "cell_type": "code",
   "execution_count": 1,
   "id": "93fe45f7",
   "metadata": {},
   "outputs": [],
   "source": [
    "import re\n",
    "import os\n",
    "import openpyxl\n",
    "from pathlib import Path\n",
    "\n",
    "# For testing use this\n",
    "#IN_DIR = 'sample1'\n",
    "\n",
    "IN_DIR = Path('private', '08052022', 'out')\n",
    "OUT_DIR = IN_DIR\n",
    "if not os.path.exists(OUT_DIR):\n",
    "    raise ValueError(f\"Did not find {OUT_DIR}\")\n",
    "\n",
    "IN_PRICING_XLSX = Path(IN_DIR, 'lb_sku_pricing.xlsx')\n",
    "IN_WILCO_XLSX = Path(IN_DIR, 'lb_sku_inventory.xlsx')\n",
    "\n",
    "\n",
    "if not os.path.exists(IN_PRICING_XLSX):\n",
    "    raise ValueError(f\"Could not find {IN_PRICING_XLSX}\")\n",
    "\n",
    "\n",
    "if not os.path.exists(IN_WILCO_XLSX):\n",
    "    raise ValueError(f\"Could not find {IN_WILCO_XLSX}\")\n",
    "    \n"
   ]
  },
  {
   "cell_type": "code",
   "execution_count": 2,
   "id": "9a6d47fd",
   "metadata": {},
   "outputs": [],
   "source": [
    "wb = openpyxl.load_workbook(IN_WILCO_XLSX)\n",
    "sheet = wb.active"
   ]
  },
  {
   "cell_type": "code",
   "execution_count": 3,
   "id": "531cac4e",
   "metadata": {},
   "outputs": [],
   "source": [
    "inventory = {}\n",
    "for row in range(2, sheet.max_row + 1):\n",
    "    sku = sheet['A' + str(row)].value\n",
    "    on_hand = sheet['C' + str(row)].value\n",
    "    if sku in inventory:\n",
    "        raise ValueError(f\"Duplicate SKU {sku} found\")\n",
    "    inventory[sku] = on_hand "
   ]
  },
  {
   "cell_type": "code",
   "execution_count": 4,
   "id": "db066ba6",
   "metadata": {},
   "outputs": [
    {
     "name": "stdout",
     "output_type": "stream",
     "text": [
      "{'022': (400, 12, 1.72), '029': (400, 12, 1.79), '036': (400, 12, 1.93), '034': (400, 12, 1.93), '032': (400, 12, 3.1), '027': (400, 12, 1.76), '028': (400, 12, 1.76), '023': (400, 12, 1.72), '038': (400, 12, 2.33), '039': (400, 12, 2.33), '037': (300, 12, 3.1), '042': (400, 12, 2.44), '041': (400, 12, 2.56), '043': (400, 12, 2.56), '044': (400, 12, 2.54), '073': (400, 12, 2.54), '074': (400, 12, 7.03), '048': (1000, 12, 2.66), '075': (1000, 12, 2.94), '051': (1000, 12, 2.87), '050': (1000, 12, 3.54), '049': (1000, 12, 2.65), '076': (1000, 12, 3.17), '080': (1000, 12, 3.76), '081': (1000, 12, 5.38), '082': (1000, 12, 3.43), '084': (1000, 12, 3.17), '054': (1000, 12, 3.5), '057': (600, 12, 3.83), '086': (200, 30, 2.16), '087': (200, 30, 2.12), '088': (200, 30, 2.28), '089': (200, 30, 2.21), '197': (250, 25, 2.7), '198': (250, 25, 2.66), 199: (250, 25, 2.84), '200': (250, 25, 2.77), '090': (250, 30, 1.87), '091': (250, 30, 1.87), '092': (250, 30, 1.6), '093': (250, 30, 2.8), 201: (325, 20, 2.35), 202: (325, 20, 2.35), 203: (325, 20, 2.35), 204: (325, 20, 3.5), '094': (100, 35, 1.36), '095': (100, 35, 2.89), 103: (1000, 10, 1.5), 102: (1000, 10, 1.5), 100: (90, 30, 4.25), 101: (140, 30, 2), 205: (350, 18, 2.5), 110: ('18\"', 1, 48), 111: ('18\"', 1, 30.225), '235': (200, 18, 1.76), 113: ('18\"', 1, 30.225), '066': (300, 18, 3.76), '236': (250, 18, 3.06), '237': (250, 18, 3.06), 206: (300, 18, 3.76), 112: (200, 18, 3.1), '234': (250, 18, 2.28), '233': (250, 18, 2.91), '211': (300, 18, 3.31), '220': (350, 18, 3.43), '240': (350, 18, 4.04), 115: ('18\"', 1, 30.225), 116: ('18\"', 1, 30.225), 118: ('15\"', 1, 25.35), 104: (1000, 10, 1.45), 108: (1000, 20, 2), '099': (100, 40, 0.8), '098': (908, 10, 2), 124: (None, 2, 4.7), 137: ('17\"', 1, 28.7625), 65: ('18\"', 1, 30.225), 68: ('18\"', 1, 30.225), 109: ('15\"', 1, 25.35), 136: ('15\"', 1, 25.35), 134: ('24\"', 1, 55.965), 126: ('46\"', 1, 205.6275), 127: ('21\"', 1, 40.95), 128: ('26\"', 1, 137.9625), 129: ('20\"', 1, 97.5), '004': (454, 40, 2.02), '010': (454, 28, 2.02), '097': (908, 16, 2.35), '001': (454, 28, 1.75), '165': (400, 32, 2.5), '174': (400, 32, 2.5), '171': (400, 32, 2.5), '168': (400, 32, 2.5), '166': (400, 32, 2.5), '170': (400, 32, 2.5), '167': (400, 32, 2.5), '175': (400, 32, 2.5), '173': (400, 32, 2.5), '176': (400, 32, 2.5), '172': (400, 32, 2.5), '003': (908, 25, 1.5), None: (None, None, None), 'CP1': (400, 8, 20), 'CP2': (400, 8, 20), 'CP3': (400, 8, 20)}\n"
     ]
    }
   ],
   "source": [
    "wb = openpyxl.load_workbook(IN_PRICING_XLSX)\n",
    "sheet = wb.active\n",
    "pricing = {}\n",
    "for row in range(2, sheet.max_row + 1):\n",
    "    sku = sheet['A' + str(row)].value\n",
    "    details = (sheet['C' + str(row)].value, sheet['D' + str(row)].value, sheet['E' + str(row)].value)\n",
    "    pricing[sku] = details\n",
    "print(pricing)"
   ]
  },
  {
   "cell_type": "code",
   "execution_count": 5,
   "id": "6f0b5288",
   "metadata": {},
   "outputs": [
    {
     "name": "stdout",
     "output_type": "stream",
     "text": [
      "Missing 003-20pk in pricing\n",
      "Missing 003-25pk in pricing\n",
      "Missing 026 in pricing\n",
      "Missing 049SKU#: 36 in pricing\n",
      "Missing 068 in pricing\n",
      "Missing 083 in pricing\n",
      "Missing 102 in pricing\n",
      "Missing 103 in pricing\n",
      "Missing 104 in pricing\n",
      "Missing 108 in pricing\n",
      "Missing 110 in pricing\n",
      "Missing 111 in pricing\n",
      "Missing 112 in pricing\n",
      "Missing 113 in pricing\n",
      "Missing 115 in pricing\n",
      "Missing 116 in pricing\n",
      "Missing 118 in pricing\n",
      "Missing 124 in pricing\n",
      "Missing 137 in pricing\n",
      "Missing 137-A in pricing\n",
      "Missing 199 in pricing\n",
      "Missing 201 in pricing\n",
      "Missing 202 in pricing\n",
      "Missing 203 in pricing\n",
      "Missing 204 in pricing\n",
      "Missing 205 in pricing\n",
      "Missing 206 in pricing\n",
      "Missing CP1SKU#: 165,174,171,172 in pricing\n",
      "Missing CP2SKU#: 168,166,170,167 in pricing\n",
      "Missing CP3SKU#: 175,173,176,169 in pricing\n"
     ]
    }
   ],
   "source": [
    "from openpyxl.styles import numbers\n",
    "\n",
    "fmt_acc = u'$#,##0.00'\n",
    "\n",
    "wb = openpyxl.load_workbook(IN_WILCO_XLSX)\n",
    "sheet = wb.active\n",
    "category_values = {}\n",
    "\n",
    "sheet['F1'].value = \"wt_pc_in_gms\"\n",
    "sheet['G1'].value = \"pcs_per_case\"\n",
    "sheet['H1'].value = \"price_per_pc\"\n",
    "sheet['I1'].value = \"price_per_case\"\n",
    "sheet['J1'].value = \"total_value\"\n",
    "\n",
    "missing_sku_pricing = []\n",
    "for row in range(2, sheet.max_row + 1):\n",
    "    sku = sheet['A' + str(row)].value\n",
    "    if not sku in pricing:\n",
    "        print(f\"Missing {sku} in pricing\")\n",
    "        missing_sku_pricing.append(sku)\n",
    "        continue\n",
    "    details = pricing[sku]\n",
    "    sheet['F' + str(row)].value = details[0]\n",
    "    sheet['G' + str(row)].value = details[1]\n",
    "    sheet['H' + str(row)].value = details[2]\n",
    "    sheet['H' + str(row)].number_format = fmt_acc\n",
    "    sheet['I' + str(row)].value = f\"=G{row} * H{row}\"\n",
    "    sheet['I' + str(row)].number_format = fmt_acc\n",
    "    sheet['J' + str(row)].value = f\"=C{row} * I{row}\"\n",
    "    sheet['J' + str(row)].number_format = fmt_acc\n",
    "    \n",
    "wb.save(OUT_XLSX)"
   ]
  },
  {
   "cell_type": "code",
   "execution_count": 6,
   "id": "4112962d",
   "metadata": {},
   "outputs": [
    {
     "name": "stdout",
     "output_type": "stream",
     "text": [
      "Found 30 missing pricing info\n"
     ]
    }
   ],
   "source": [
    "print(f\"Found {len(missing_sku_pricing)} missing pricing info\")"
   ]
  },
  {
   "cell_type": "code",
   "execution_count": 7,
   "id": "18cc3058",
   "metadata": {},
   "outputs": [
    {
     "name": "stdout",
     "output_type": "stream",
     "text": [
      "['003-20pk', '003-25pk', '026', '049SKU#: 36', '068', '083', '102', '103', '104', '108', '110', '111', '112', '113', '115', '116', '118', '124', '137', '137-A', '199', '201', '202', '203', '204', '205', '206', 'CP1SKU#: 165,174,171,172', 'CP2SKU#: 168,166,170,167', 'CP3SKU#: 175,173,176,169']\n"
     ]
    }
   ],
   "source": [
    "print(missing_sku_pricing)"
   ]
  },
  {
   "cell_type": "code",
   "execution_count": null,
   "id": "685e62e3",
   "metadata": {},
   "outputs": [],
   "source": []
  }
 ],
 "metadata": {
  "kernelspec": {
   "display_name": "Python 3 (ipykernel)",
   "language": "python",
   "name": "python3"
  },
  "language_info": {
   "codemirror_mode": {
    "name": "ipython",
    "version": 3
   },
   "file_extension": ".py",
   "mimetype": "text/x-python",
   "name": "python",
   "nbconvert_exporter": "python",
   "pygments_lexer": "ipython3",
   "version": "3.8.10"
  }
 },
 "nbformat": 4,
 "nbformat_minor": 5
}
