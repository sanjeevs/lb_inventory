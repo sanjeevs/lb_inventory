{
 "cells": [
  {
   "cell_type": "code",
   "execution_count": null,
   "id": "c884f650",
   "metadata": {},
   "outputs": [],
   "source": []
  },
  {
   "cell_type": "code",
   "execution_count": 1,
   "id": "4eefbfb2",
   "metadata": {},
   "outputs": [],
   "source": [
    "import re\n",
    "import os\n",
    "import openpyxl\n",
    "from pathlib import Path\n",
    "\n",
    "# For testing use this\n",
    "#IN_DIR = 'sample1'\n",
    "\n",
    "IN_DIR = Path('private', '08052022', 'out')\n",
    "IN_WILCO_XLSX = Path(IN_DIR, 'master_wilco_dollars.xlsx')"
   ]
  },
  {
   "cell_type": "code",
   "execution_count": 2,
   "id": "57ff1299",
   "metadata": {},
   "outputs": [],
   "source": [
    "wb = openpyxl.load_workbook(IN_WILCO_XLSX, data_only=True)\n",
    "sheet = wb.active"
   ]
  },
  {
   "cell_type": "code",
   "execution_count": 3,
   "id": "0cd13c70",
   "metadata": {},
   "outputs": [],
   "source": [
    "categories_cost = {}\n",
    "gross_value = 0\n",
    "\n",
    "for row in range(2, sheet.max_row + 1):\n",
    "    total_value = sheet['J' + str(row)].value\n",
    "    if not total_value:\n",
    "        total_value = 0\n",
    "    category = sheet['E' + str(row)].value\n",
    "    \n",
    "    categories_cost.setdefault(category, 0)\n",
    "    categories_cost[category] += total_value"
   ]
  },
  {
   "cell_type": "code",
   "execution_count": 4,
   "id": "42d56163",
   "metadata": {},
   "outputs": [
    {
     "name": "stdout",
     "output_type": "stream",
     "text": [
      "{'Parotta': 5173.2, 'Tapioca': 0, 'Coconut': 23262.32, 'Pickle': 4088.52, 'Masala': 8966.42, 'Snacks': 5606.460000000001, 'Misc': 460, 'Rice': 0, 'Coffee': 0, 'Utensils': 82.08, 'Paste': 2800}\n"
     ]
    }
   ],
   "source": [
    "print(categories_cost)"
   ]
  },
  {
   "cell_type": "code",
   "execution_count": null,
   "id": "71196970",
   "metadata": {},
   "outputs": [],
   "source": []
  }
 ],
 "metadata": {
  "kernelspec": {
   "display_name": "Python 3 (ipykernel)",
   "language": "python",
   "name": "python3"
  },
  "language_info": {
   "codemirror_mode": {
    "name": "ipython",
    "version": 3
   },
   "file_extension": ".py",
   "mimetype": "text/x-python",
   "name": "python",
   "nbconvert_exporter": "python",
   "pygments_lexer": "ipython3",
   "version": "3.8.10"
  }
 },
 "nbformat": 4,
 "nbformat_minor": 5
}
