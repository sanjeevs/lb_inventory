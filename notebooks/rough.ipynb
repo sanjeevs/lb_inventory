{
 "cells": [
  {
   "cell_type": "markdown",
   "id": "521258c3",
   "metadata": {},
   "source": [
    "## Purpose\n",
    "parse SKU expiry to create a assoc array"
   ]
  },
  {
   "cell_type": "code",
   "execution_count": 43,
   "id": "a4fdb454",
   "metadata": {
    "scrolled": true
   },
   "outputs": [
    {
     "ename": "ModuleNotFoundError",
     "evalue": "No module named 'num2words'",
     "output_type": "error",
     "traceback": [
      "\u001b[0;31m---------------------------------------------------------------------------\u001b[0m",
      "\u001b[0;31mModuleNotFoundError\u001b[0m                       Traceback (most recent call last)",
      "Input \u001b[0;32mIn [43]\u001b[0m, in \u001b[0;36m<cell line: 3>\u001b[0;34m()\u001b[0m\n\u001b[1;32m      1\u001b[0m \u001b[38;5;28;01mimport\u001b[39;00m \u001b[38;5;21;01mopenpyxl\u001b[39;00m\n\u001b[1;32m      2\u001b[0m \u001b[38;5;28;01mimport\u001b[39;00m \u001b[38;5;21;01mdatetime\u001b[39;00m\n\u001b[0;32m----> 3\u001b[0m \u001b[38;5;28;01mimport\u001b[39;00m \u001b[38;5;21;01mnum2words\u001b[39;00m\n",
      "\u001b[0;31mModuleNotFoundError\u001b[0m: No module named 'num2words'"
     ]
    }
   ],
   "source": [
    "import openpyxl\n",
    "import datetime\n",
    "import num2words"
   ]
  },
  {
   "cell_type": "code",
   "execution_count": 36,
   "id": "cfa7ca00",
   "metadata": {},
   "outputs": [],
   "source": [
    "wb = openpyxl.load_workbook(\"out/lb_inventory_master.xlsx\", data_only=True)\n",
    "sheet = wb.active"
   ]
  },
  {
   "cell_type": "code",
   "execution_count": 37,
   "id": "89f12653",
   "metadata": {},
   "outputs": [
    {
     "name": "stdout",
     "output_type": "stream",
     "text": [
      "43207\n"
     ]
    }
   ],
   "source": [
    "sku_expiring = []\n",
    "total_cost = 0\n",
    "\n",
    "# by default date is in year, month, day format.\n",
    "expiry1 = datetime.datetime(2022, 12, 31)\n",
    "\n",
    "for row in sheet.iter_rows(min_row=2):\n",
    "    values = [cell.value for cell in row]\n",
    "    if values[10] < expiry1:\n",
    "        sku = str(values[0])\n",
    "        cost = int(values[9])\n",
    "        sku_expiring.append(values)\n",
    "        total_cost += cost\n",
    "\n",
    "print(total_cost)"
   ]
  },
  {
   "cell_type": "code",
   "execution_count": 39,
   "id": "eb9c6a08",
   "metadata": {},
   "outputs": [
    {
     "name": "stdout",
     "output_type": "stream",
     "text": [
      "{'Parotta': 4213.8, 'Tapioca': 2505, 'Coconut': 20595.92, 'Masala': 3815.45, 'Misc': 420, 'Rice': 1422, 'Snacks': 400, 'Paste': 9840}\n"
     ]
    }
   ],
   "source": [
    "categories = {}\n",
    "for entry in sku_expiring:\n",
    "    category = entry[4]\n",
    "    if category not in categories:\n",
    "        categories[category]= 0\n",
    "    categories[category] += entry[9]\n",
    "\n",
    "print(categories)\n",
    "    "
   ]
  },
  {
   "cell_type": "code",
   "execution_count": 33,
   "id": "43cface9",
   "metadata": {},
   "outputs": [],
   "source": [
    "wb = openpyxl.Workbook()\n",
    "sheet = wb.create_sheet(\"Dec2022\")\n",
    "for entry in sku_expiring:\n",
    "    sheet.append(entry[1])\n",
    "wb.save(\"lb_expiry_costing.xlsx\")"
   ]
  },
  {
   "cell_type": "code",
   "execution_count": 46,
   "id": "2bf13023",
   "metadata": {},
   "outputs": [
    {
     "name": "stdout",
     "output_type": "stream",
     "text": [
      "Parotta Rs 3 lakhs\n",
      "Tapioca Rs 2 lakhs\n",
      "Coconut Rs 16 lakhs\n",
      "Masala Rs 3 lakhs\n",
      "Misc Rs 0 lakhs\n",
      "Rice Rs 1 lakhs\n",
      "Snacks Rs 0 lakhs\n",
      "Paste Rs 7 lakhs\n",
      "Total lakhs=32\n"
     ]
    }
   ],
   "source": [
    "total = 0\n",
    "for key in categories.keys():\n",
    "    rupees = int(categories[key] * 80)\n",
    "    lakhs = rupees // 100000\n",
    "    total += lakhs\n",
    "    print(key, f\"Rs {lakhs} lakhs\")\n",
    "    \n",
    "print(f\"Total lakhs={total}\")"
   ]
  },
  {
   "cell_type": "code",
   "execution_count": null,
   "id": "c4922cdf",
   "metadata": {},
   "outputs": [],
   "source": []
  }
 ],
 "metadata": {
  "kernelspec": {
   "display_name": "Python 3 (ipykernel)",
   "language": "python",
   "name": "python3"
  },
  "language_info": {
   "codemirror_mode": {
    "name": "ipython",
    "version": 3
   },
   "file_extension": ".py",
   "mimetype": "text/x-python",
   "name": "python",
   "nbconvert_exporter": "python",
   "pygments_lexer": "ipython3",
   "version": "3.8.10"
  }
 },
 "nbformat": 4,
 "nbformat_minor": 5
}
