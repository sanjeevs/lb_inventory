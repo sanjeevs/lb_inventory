{
 "cells": [
  {
   "cell_type": "markdown",
   "id": "75a1c462",
   "metadata": {},
   "source": [
    "## Purpose\n",
    "Annotates the pricing xlsx sheet with the inventory from wilco report.\n",
    "\n",
    "It allows us to comput the value of 2 questions.\n",
    "* What is the total dollar amount of WILCO inventory?\n",
    "* What items are present in pricing sheet but not in wilco inventory? These can be manually checked to ensure that they exist at homte.\n",
    "\n",
    "The final output for dollary amount is  *master_wilco_dollars.xlsx*\n",
    "\n",
    "The various inputs are\n",
    "* wilco inventory xlsx\n",
    "* pricing xlsx to create a master list.\n",
    "* lb inventory category"
   ]
  },
  {
   "cell_type": "code",
   "execution_count": 1,
   "id": "169013a9",
   "metadata": {},
   "outputs": [],
   "source": [
    "IN_DIR = \"../private\"\n",
    "LB_CATEGORIES = \"lb_inventory_categories.xlsx\"\n",
    "\n",
    "\n",
    "OUT_DIR = \"out\"\n",
    "PRICING_XLSX = 'lb_sku_pricing.xlsx'\n",
    "INVENTORY_XLSX = 'lb_sku_inventory.xlsx'\n",
    "\n",
    "OUT_MASTER = \"lb_inventory_master.xlsx\""
   ]
  },
  {
   "cell_type": "code",
   "execution_count": 2,
   "id": "93fe45f7",
   "metadata": {},
   "outputs": [],
   "source": [
    "import re\n",
    "import os\n",
    "import openpyxl\n",
    "from pathlib import Path\n",
    "\n",
    "import sys\n",
    "sys.path.append(\"../src\")\n",
    "import lb_wilco_parser as lb\n",
    "\n",
    "\n",
    "CATEGORIES_XLSX = Path(IN_DIR, LB_CATEGORIES)\n",
    "IN_PRICING_XLSX = Path(OUT_DIR, PRICING_XLSX)\n",
    "IN_INVENTORY_XLSX = Path(OUT_DIR, INVENTORY_XLSX)\n",
    "\n",
    "OUT_XLSX = Path(OUT_DIR, OUT_MASTER)\n",
    "\n",
    "if not os.path.exists(CATEGORIES_XLSX):\n",
    "    raise ValueError(\"Categories not found\")\n",
    "\n",
    "if not os.path.exists(IN_PRICING_XLSX):\n",
    "    raise ValueError(\"Pricing xlsx not found. Did you run the intermediate step?\")\n",
    "\n",
    "if not os.path.exists(IN_INVENTORY_XLSX):\n",
    "    raise ValueError(\"Inventory xlsx not found. Did you run the intermediate step?\")\n"
   ]
  },
  {
   "cell_type": "code",
   "execution_count": 3,
   "id": "e4e1a831",
   "metadata": {},
   "outputs": [
    {
     "name": "stdout",
     "output_type": "stream",
     "text": [
      "Found 88 matching categories\n"
     ]
    }
   ],
   "source": [
    "wb = openpyxl.load_workbook(CATEGORIES_XLSX)\n",
    "sheet = wb.active\n",
    "categories = lb.create_categories_database(sheet)"
   ]
  },
  {
   "cell_type": "code",
   "execution_count": 4,
   "id": "64e274a2",
   "metadata": {},
   "outputs": [
    {
     "name": "stdout",
     "output_type": "stream",
     "text": [
      "{'001': ('Frozen', 'Parotta'), '003-20pk': ('Frozen', 'Tapioca'), '003-25pk': ('Frozen', 'Tapioca'), '004': ('Frozen', 'Coconut'), '010': ('Frozen', 'Coconut'), '022': ('Dry', 'Pickle'), '023': ('Dry', 'Pickle'), '026': ('Dry', 'Pickle'), '027': ('Dry', 'Pickle'), '028': ('Dry', 'Pickle'), '029': ('Dry', 'Pickle'), '036': ('Dry', 'Pickle'), '037': ('Dry', 'Pickle'), '038': ('Dry', 'Pickle'), '039': ('Dry', 'Pickle'), '041': ('Dry', 'Masala'), '042': ('Dry', 'Masala'), '044': ('Dry', 'Masala'), '048': ('Dry', 'Pickle'), '049SKU#: 36': ('Dry', 'Pickle'), '050': ('Dry', 'Pickle'), '054': ('Dry', 'Pickle'), '066': ('Dry', 'Snacks'), '068': ('Dry', 'Snacks'), '074': ('Dry', 'Masala'), '075': ('Dry', 'Pickle'), '076': ('Dry', 'Pickle'), '080': ('Dry', 'Pickle'), '083': ('Dry', 'Pickle'), '084': ('Dry', 'Pickle'), '086': ('Dry', 'Masala'), '087': ('Dry', 'Masala'), '088': ('Dry', 'Masala'), '089': ('Dry', 'Masala'), '090': ('Dry', 'Masala'), '091': ('Dry', 'Masala'), '092': ('Dry', 'Masala'), '094': ('Dry', 'Masala'), '095': ('Dry', 'Masala'), '097': ('Frozen', 'Parotta'), '098': ('Dry', 'Misc'), '099': ('Dry', 'Masala'), '102': ('Dry', 'Rice'), '103': ('Dry', 'Rice'), '104': ('Dry', 'Rice'), '108': ('Dry', 'Snacks'), '110': ('Dry', 'Snacks'), '111': ('Dry', 'Snacks'), '112': ('Dry', 'Snacks'), '113': ('Dry', 'Snacks'), '115': ('Dry', 'Masala'), '116': ('Dry', 'Masala'), '118': ('Dry', 'Coffee'), '124': ('Dry', 'Utensils'), '137': ('Dry', 'Utensils'), '137-A': ('Dry', 'Utensils'), '165': ('Frozen', 'Paste'), '166': ('Frozen', 'Paste'), '167': ('Frozen', 'Paste'), '168': ('Frozen', 'Paste'), '170': ('Frozen', 'Paste'), '171': ('Frozen', 'Paste'), '172': ('Frozen', 'Paste'), '173': ('Frozen', 'Paste'), '174': ('Frozen', 'Paste'), '175': ('Frozen', 'Paste'), '176': ('Frozen', 'Paste'), '197': ('Dry', 'Masala'), '198': ('Dry', 'Masala'), '199': ('Dry', 'Masala'), '200': ('Dry', 'Masala'), '201': ('Dry', 'Masala'), '202': ('Dry', 'Masala'), '203': ('Dry', 'Masala'), '204': ('Dry', 'Masala'), '205': ('Dry', 'Snacks'), '206': ('Dry', 'Snacks'), '211': ('Dry', 'Masala'), '220': ('Dry', 'Snacks'), '233': ('Dry', 'Snacks'), '234': ('Dry', 'Utensils'), '235': ('Dry', 'Snacks'), '236': ('Dry', 'Snacks'), '237': ('Dry', 'Snacks'), '240': ('Dry', 'Snacks'), 'CP1': ('Frozen', 'Paste'), 'CP2': ('Frozen', 'Paste'), 'CP3': ('Frozen', 'Paste')}\n"
     ]
    }
   ],
   "source": [
    "print(categories)"
   ]
  },
  {
   "cell_type": "code",
   "execution_count": 5,
   "id": "9a6d47fd",
   "metadata": {},
   "outputs": [],
   "source": [
    "wb = openpyxl.load_workbook(IN_INVENTORY_XLSX)\n",
    "sheet = wb.active"
   ]
  },
  {
   "cell_type": "code",
   "execution_count": 6,
   "id": "531cac4e",
   "metadata": {},
   "outputs": [],
   "source": [
    "inventory = {}\n",
    "for row in range(2, sheet.max_row + 1):\n",
    "    sku = str(sheet['A' + str(row)].value)\n",
    "    description = sheet['B' + str(row)].value\n",
    "    on_hand = sheet['C' + str(row)].value\n",
    "    if sku in inventory:\n",
    "        raise ValueError(f\"Duplicate SKU {sku} found\")\n",
    "    inventory[sku] = (description, on_hand)\n",
    "  "
   ]
  },
  {
   "cell_type": "code",
   "execution_count": 7,
   "id": "45cd793c",
   "metadata": {},
   "outputs": [
    {
     "name": "stdout",
     "output_type": "stream",
     "text": [
      "Updating CP1SKU#: 165,174,171,172 with CP1\n",
      "Updating CP2SKU#: 168,166,170,167 with CP2\n",
      "Updating CP3SKU#: 175,173,176,169 with CP3\n"
     ]
    },
    {
     "data": {
      "text/plain": [
       "('Green Chilli Pickle', 1)"
      ]
     },
     "execution_count": 7,
     "metadata": {},
     "output_type": "execute_result"
    }
   ],
   "source": [
    "# Exception in inventory\n",
    "\n",
    "#These SKU needs to be modified.\n",
    "edit_keys = ['CP1', 'CP2', 'CP3']\n",
    "del_keys = {}\n",
    "for k in inventory.keys():\n",
    "    for m  in edit_keys:\n",
    "        if k is not m and k.startswith(m):\n",
    "            del_keys[k] = m\n",
    "            \n",
    "for k in del_keys:\n",
    "    temp = inventory[k]\n",
    "    print(f\"Updating {k} with {del_keys[k]}\")\n",
    "    inventory[del_keys[k]] = temp\n",
    "    inventory.pop(k)\n",
    "    \n",
    "\n",
    "# SKU 115 Maryur Jaggery is not there even though inventory reports it.\n",
    "inventory.pop('115')\n",
    "\n",
    "# SKU 068: Tapioca Chips is not known. Ignore it\n",
    "inventory.pop('068')\n",
    "\n",
    "# SKU 083 Vadukapuli is not known.\n",
    "inventory.pop('083')\n",
    "\n",
    "# SKU 137-A Hand Grinder Ignore\n",
    "inventory.pop('137-A')\n",
    "\n",
    "# SKU 169 Coconut paste unkown\n",
    "inventory.pop('169')\n",
    "\n",
    "# SKU 026 Green Chilli Pickle\n",
    "inventory.pop('026')"
   ]
  },
  {
   "cell_type": "code",
   "execution_count": 9,
   "id": "db066ba6",
   "metadata": {},
   "outputs": [
    {
     "name": "stdout",
     "output_type": "stream",
     "text": [
      "Fixed duplicate SKU=094 with (100, 35, 1.36)\n",
      "Fixed duplicate SKU=095 with (100, 35, 2.89)\n",
      "Fixed duplicate SKU=116 with (400, 20, 2.82)\n",
      "Fixed duplicate SKU=118 with (150, 20, 2.02)\n",
      ">>Found SKU=['034', '032', '043', '044', '073', '051', '049', '081', '082', '057', '088', '091', '092', '093', '100', '101', '115', '115', '026', 'None'] that have no inventory but have pricing\n",
      ">>Skipping 20 SKU from pricing sheet in the inventory\n"
     ]
    }
   ],
   "source": [
    "wb = openpyxl.load_workbook(IN_PRICING_XLSX)\n",
    "sheet = wb.active\n",
    "pricing = {}\n",
    "no_inventory_items = []\n",
    "for row in range(2, sheet.max_row + 1):\n",
    "    sku = str(sheet['A' + str(row)].value)\n",
    "    if sku in inventory.keys():\n",
    "        details = (sheet['C' + str(row)].value, sheet['D' + str(row)].value, sheet['E' + str(row)].value)\n",
    "        if sku in pricing.keys():\n",
    "            # Exceptions: Some items have same SKU but different pcs per case.\n",
    "            # FIX: Use the smaller of the number.\n",
    "            new_pcs_per_case = int(sheet['D' + str(row)].value)\n",
    "            orig_pcs_per_case = int(pricing[sku][1])\n",
    "            if new_pcs_per_case < orig_pcs_per_case:\n",
    "                pricing[sku] = details\n",
    "            print(f\"Fixed duplicate SKU={sku} with {details}\")\n",
    "        else:\n",
    "            pricing[sku] = details\n",
    "    else:\n",
    "        no_inventory_items.append(sku)\n",
    "\n",
    "print(f\">>Found SKU={no_inventory_items} that have no inventory but have pricing\")\n",
    "if len(no_inventory_items) > 0:\n",
    "    print(f\">>Skipping {len(no_inventory_items)} SKU from pricing sheet in the inventory\")"
   ]
  },
  {
   "cell_type": "code",
   "execution_count": 10,
   "id": "04fa2f89",
   "metadata": {},
   "outputs": [
    {
     "name": "stdout",
     "output_type": "stream",
     "text": [
      "Pricing=>Inventory:Missing 0 entries and Matched 79 entries\n"
     ]
    }
   ],
   "source": [
    "# Check if there are any inventory that does not have pricing\n",
    "num_matches = 0\n",
    "num_missing = 0\n",
    "for sku in pricing.keys():\n",
    "    if sku not in inventory.keys():\n",
    "        print(f\"SKU={sku} is in inventory but not in pricing\")\n",
    "        num_missing += 1\n",
    "    else:\n",
    "        num_matches += 1\n",
    "        \n",
    "print(f\"Pricing=>Inventory:Missing {num_missing} entries and Matched {num_matches} entries\")"
   ]
  },
  {
   "cell_type": "code",
   "execution_count": 11,
   "id": "6f0b5288",
   "metadata": {},
   "outputs": [],
   "source": [
    "from openpyxl.styles import numbers\n",
    "\n",
    "fmt_acc = u'$#,##0.00'\n",
    "\n",
    "# Annotate the incoming WILCO report \n",
    "wb = openpyxl.Workbook()\n",
    "sheet = wb.active\n",
    "\n",
    "sheet['A1'].value = \"SKU\"\n",
    "sheet['B1'].value = \"Description\"\n",
    "sheet['C1'].value = \"OnHand\"\n",
    "sheet['D1'].value = \"Type\"\n",
    "sheet['E1'].value = \"Category\"\n",
    "sheet['F1'].value = \"wt_pc_in_gms\"\n",
    "sheet['G1'].value = \"pcs_per_case\"\n",
    "sheet['H1'].value = \"price_per_pc\"\n",
    "sheet['I1'].value = \"price_per_case\"\n",
    "sheet['J1'].value = \"total_value\"\n",
    "\n",
    "missing_sku_pricing = []\n",
    "row = 1\n",
    "\n",
    "for sku in inventory:\n",
    "    row += 1\n",
    "    description = sheet['B' + str(row)].value\n",
    "    if not sku in pricing:\n",
    "        print(f\"Missing SKU={sku}, {description} in pricing\")\n",
    "        missing_sku_pricing.append(sku)\n",
    "        continue\n",
    "    details = pricing[sku]\n",
    "    sheet['A' + str(row)].value = sku\n",
    "    sheet['B' + str(row)].value = inventory[sku][0]\n",
    "    sheet['C' + str(row)].value = inventory[sku][1]\n",
    "    sheet['D' + str(row)].value = categories[sku][0]\n",
    "    sheet['E' + str(row)].value = categories[sku][1]\n",
    "    sheet['F' + str(row)].value = details[0]\n",
    "    sheet['G' + str(row)].value = details[1]\n",
    "    sheet['H' + str(row)].value = details[2]\n",
    "    sheet['H' + str(row)].number_format = fmt_acc\n",
    "    sheet['I' + str(row)].value = f\"=G{row} * H{row}\"\n",
    "    sheet['I' + str(row)].number_format = fmt_acc\n",
    "    sheet['J' + str(row)].value = f\"=C{row} * I{row}\"\n",
    "    sheet['J' + str(row)].number_format = fmt_acc\n",
    "    \n",
    "wb.save(OUT_XLSX)"
   ]
  },
  {
   "cell_type": "code",
   "execution_count": 12,
   "id": "4112962d",
   "metadata": {},
   "outputs": [
    {
     "name": "stdout",
     "output_type": "stream",
     "text": [
      "Found 0 missing pricing info\n"
     ]
    }
   ],
   "source": [
    "print(f\"Found {len(missing_sku_pricing)} missing pricing info\")"
   ]
  },
  {
   "cell_type": "code",
   "execution_count": 13,
   "id": "18cc3058",
   "metadata": {},
   "outputs": [
    {
     "name": "stdout",
     "output_type": "stream",
     "text": [
      "[]\n"
     ]
    }
   ],
   "source": [
    "print(missing_sku_pricing)"
   ]
  },
  {
   "cell_type": "code",
   "execution_count": null,
   "id": "685e62e3",
   "metadata": {},
   "outputs": [],
   "source": []
  }
 ],
 "metadata": {
  "kernelspec": {
   "display_name": "Python 3 (ipykernel)",
   "language": "python",
   "name": "python3"
  },
  "language_info": {
   "codemirror_mode": {
    "name": "ipython",
    "version": 3
   },
   "file_extension": ".py",
   "mimetype": "text/x-python",
   "name": "python",
   "nbconvert_exporter": "python",
   "pygments_lexer": "ipython3",
   "version": "3.8.10"
  }
 },
 "nbformat": 4,
 "nbformat_minor": 5
}
