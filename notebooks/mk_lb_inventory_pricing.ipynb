{
 "cells": [
  {
   "cell_type": "markdown",
   "id": "a1ec3169",
   "metadata": {},
   "source": [
    "## Purpose\n",
    "This script parses the pricing sheet for dry and frozen items and generated a unified xlsx with the price and other meta information like weight, number of pcs in case etc.\n",
    "\n",
    "The inputs are the 2 pricing xlsx files from LB.\n",
    "* PRICE LIST FOR DRY GOODS.xlsx\n",
    "* PRICE LIST FOR FROZEN GOODS.xlsx\n",
    "\n",
    "The output is a xlsx file with all the static and pricing information.\n",
    "* lb_sku_pricing.xlsx\n",
    "\n",
    "The general steps are\n",
    "* Read the price list for dry goods.\n",
    "* Create a data base of all the sku with the pricing and meta info.\n",
    "* Read the price list for all frozen products.\n",
    "* Create a data base of all sku with pricing and other info\n",
    "* Add the 2 data base together.\n",
    "* Write the data base to file *lb_sku_pricing.xlsx*"
   ]
  },
  {
   "cell_type": "code",
   "execution_count": 1,
   "id": "f19f69bd",
   "metadata": {},
   "outputs": [],
   "source": [
    "PRICING_DIR = \"../private\"\n",
    "LB_DRY_PRICING = \"PRICE LIST FOR DRY GOODS.xlsx\"\n",
    "LB_FROZEN_PRICING = \"PRICE LIST FOR FROZEN GOODS.xlsx\"\n",
    "\n",
    "OUT_DIR = \"out\"\n",
    "OUT_REPORT = \"lb_sku_inventory.xlsx\""
   ]
  },
  {
   "cell_type": "code",
   "execution_count": 2,
   "id": "581730c7",
   "metadata": {},
   "outputs": [
    {
     "name": "stdout",
     "output_type": "stream",
     "text": [
      "Parsing ../private/PRICE LIST FOR DRY GOODS.xlsx to create output file out/lb_sku_pricing.xlsx\n"
     ]
    }
   ],
   "source": [
    "import re\n",
    "import os\n",
    "import openpyxl\n",
    "from pathlib import Path\n",
    "\n",
    "import sys\n",
    "sys.path.append(\"../src\")\n",
    "from lb_pricing_parser import *\n",
    "\n",
    "IN_DRY_XLSX = Path(PRICING_DIR, LB_DRY_PRICING)\n",
    "IN_FROZEN_XLSX = Path(PRICING_DIR, LB_FROZEN_PRICING)\n",
    "OUT_XLSX = Path(OUT_DIR, \"lb_sku_pricing.xlsx\")\n",
    "    \n",
    "\n",
    "if not os.path.exists(IN_DRY_XLSX):\n",
    "    raise ValueError(f\"Could not find {IN_DRY_XLSX} file\")\n",
    "\n",
    "if not os.path.exists(IN_FROZEN_XLSX):\n",
    "    raise ValueError(f\"Could not find {IN_FROZEN_XLSX} file\")\n",
    "\n",
    "if not os.path.exists(OUT_DIR):\n",
    "    print(\"Creating output directory\")\n",
    "    os.mkdir(OUT_DIR)\n",
    "\n",
    "print(f\"Parsing {IN_DRY_XLSX} to create output file {OUT_XLSX}\")"
   ]
  },
  {
   "cell_type": "code",
   "execution_count": 3,
   "id": "c64dc994",
   "metadata": {},
   "outputs": [
    {
     "name": "stdout",
     "output_type": "stream",
     "text": [
      "<openpyxl.workbook.workbook.Workbook object at 0x7f79f0768c40>\n"
     ]
    }
   ],
   "source": [
    "wb = openpyxl.load_workbook(IN_DRY_XLSX)\n",
    "print(wb)\n",
    "sheet = wb.active"
   ]
  },
  {
   "cell_type": "code",
   "execution_count": 4,
   "id": "527c5e32",
   "metadata": {},
   "outputs": [
    {
     "name": "stdout",
     "output_type": "stream",
     "text": [
      "Found header row at 9\n",
      "9\n"
     ]
    }
   ],
   "source": [
    "row_idx = extract_pricing_header_row_index(sheet)\n",
    "print(row_idx)"
   ]
  },
  {
   "cell_type": "code",
   "execution_count": 5,
   "id": "cb13a705",
   "metadata": {},
   "outputs": [
    {
     "name": "stdout",
     "output_type": "stream",
     "text": [
      "['SI.NO', 'SKU', 'IDENTIFICATION NO', 'DESCRIPTION OF GOODS', 'wt/pcs in gms', 'pcs/case', 'price/pcs', 'Price/case']\n",
      "{'SKU': 2, 'Description': 4, 'wt_pc_in_gms': 5, 'pcs_per_case': 6, 'price_per_pc': 7}\n"
     ]
    }
   ],
   "source": [
    "col_idx_lst = extract_pricing_header_col_indices(sheet, row_idx)\n",
    "print(col_idx_lst)"
   ]
  },
  {
   "cell_type": "code",
   "execution_count": 6,
   "id": "cd001cf0",
   "metadata": {},
   "outputs": [
    {
     "name": "stdout",
     "output_type": "stream",
     "text": [
      "Found 82 entries in the database\n"
     ]
    }
   ],
   "source": [
    "dry_db = create_pricing_database(sheet, row_idx, col_idx_lst)"
   ]
  },
  {
   "cell_type": "code",
   "execution_count": 7,
   "id": "caa8cb20",
   "metadata": {},
   "outputs": [
    {
     "name": "stdout",
     "output_type": "stream",
     "text": [
      "<openpyxl.workbook.workbook.Workbook object at 0x7f79f0768430>\n"
     ]
    }
   ],
   "source": [
    "wb = openpyxl.load_workbook(IN_FROZEN_XLSX)\n",
    "print(wb)\n",
    "sheet = wb.active"
   ]
  },
  {
   "cell_type": "code",
   "execution_count": 8,
   "id": "af015041",
   "metadata": {},
   "outputs": [
    {
     "name": "stdout",
     "output_type": "stream",
     "text": [
      "Found header row at 12\n",
      "12\n"
     ]
    }
   ],
   "source": [
    "row_idx = extract_pricing_header_row_index(sheet)\n",
    "print(row_idx)"
   ]
  },
  {
   "cell_type": "code",
   "execution_count": 9,
   "id": "987ea18a",
   "metadata": {},
   "outputs": [
    {
     "name": "stdout",
     "output_type": "stream",
     "text": [
      "['Sl.NO', 'SKU', 'IDENTIFICATION NO', 'DESCRIPTION OF GOODS', 'wt/pcs in gms', 'pcs/case', 'price/pcs', 'price/case']\n",
      "{'SKU': 2, 'Description': 4, 'wt_pc_in_gms': 5, 'pcs_per_case': 6, 'price_per_pc': 7}\n"
     ]
    }
   ],
   "source": [
    "col_idx_lst = extract_pricing_header_col_indices(sheet, row_idx)\n",
    "print(col_idx_lst)"
   ]
  },
  {
   "cell_type": "code",
   "execution_count": 10,
   "id": "960eb09f",
   "metadata": {},
   "outputs": [
    {
     "name": "stdout",
     "output_type": "stream",
     "text": [
      "Found 21 entries in the database\n"
     ]
    }
   ],
   "source": [
    "cold_db = create_pricing_database(sheet, row_idx, col_idx_lst)\n"
   ]
  },
  {
   "cell_type": "code",
   "execution_count": 11,
   "id": "f19f647d",
   "metadata": {},
   "outputs": [
    {
     "name": "stdout",
     "output_type": "stream",
     "text": [
      "Final data base created with 103 entries\n"
     ]
    }
   ],
   "source": [
    "db = dry_db + cold_db\n",
    "print(f\"Final data base created with {len(db)} entries\")"
   ]
  },
  {
   "cell_type": "code",
   "execution_count": 12,
   "id": "64204162",
   "metadata": {},
   "outputs": [
    {
     "name": "stdout",
     "output_type": "stream",
     "text": [
      "Saving output file 'out/lb_sku_pricing.xlsx'\n"
     ]
    }
   ],
   "source": [
    "save_pricing_database_to_xlsx(OUT_XLSX, db)"
   ]
  },
  {
   "cell_type": "code",
   "execution_count": null,
   "id": "a61c2052",
   "metadata": {},
   "outputs": [],
   "source": []
  }
 ],
 "metadata": {
  "kernelspec": {
   "display_name": "Python 3 (ipykernel)",
   "language": "python",
   "name": "python3"
  },
  "language_info": {
   "codemirror_mode": {
    "name": "ipython",
    "version": 3
   },
   "file_extension": ".py",
   "mimetype": "text/x-python",
   "name": "python",
   "nbconvert_exporter": "python",
   "pygments_lexer": "ipython3",
   "version": "3.8.10"
  }
 },
 "nbformat": 4,
 "nbformat_minor": 5
}
